{
 "cells": [
  {
   "cell_type": "code",
   "execution_count": 1,
   "id": "9695edb8",
   "metadata": {},
   "outputs": [],
   "source": [
    "import pandas as pd\n",
    "import numpy as np\n",
    "import matplotlib.pyplot as plt\n",
    "import seaborn as sns"
   ]
  },
  {
   "cell_type": "code",
   "execution_count": 2,
   "id": "18819d75",
   "metadata": {},
   "outputs": [
    {
     "data": {
      "text/html": [
       "<div>\n",
       "<style scoped>\n",
       "    .dataframe tbody tr th:only-of-type {\n",
       "        vertical-align: middle;\n",
       "    }\n",
       "\n",
       "    .dataframe tbody tr th {\n",
       "        vertical-align: top;\n",
       "    }\n",
       "\n",
       "    .dataframe thead th {\n",
       "        text-align: right;\n",
       "    }\n",
       "</style>\n",
       "<table border=\"1\" class=\"dataframe\">\n",
       "  <thead>\n",
       "    <tr style=\"text-align: right;\">\n",
       "      <th></th>\n",
       "      <th>customerID</th>\n",
       "      <th>gender</th>\n",
       "      <th>SeniorCitizen</th>\n",
       "      <th>Partner</th>\n",
       "      <th>Dependents</th>\n",
       "      <th>tenure</th>\n",
       "      <th>PhoneService</th>\n",
       "      <th>MultipleLines</th>\n",
       "      <th>InternetService</th>\n",
       "      <th>OnlineSecurity</th>\n",
       "      <th>...</th>\n",
       "      <th>DeviceProtection</th>\n",
       "      <th>TechSupport</th>\n",
       "      <th>StreamingTV</th>\n",
       "      <th>StreamingMovies</th>\n",
       "      <th>Contract</th>\n",
       "      <th>PaperlessBilling</th>\n",
       "      <th>PaymentMethod</th>\n",
       "      <th>MonthlyCharges</th>\n",
       "      <th>TotalCharges</th>\n",
       "      <th>Churn</th>\n",
       "    </tr>\n",
       "  </thead>\n",
       "  <tbody>\n",
       "    <tr>\n",
       "      <th>6488</th>\n",
       "      <td>0488-GSLFR</td>\n",
       "      <td>Female</td>\n",
       "      <td>0</td>\n",
       "      <td>No</td>\n",
       "      <td>No</td>\n",
       "      <td>1</td>\n",
       "      <td>Yes</td>\n",
       "      <td>No</td>\n",
       "      <td>Fiber optic</td>\n",
       "      <td>No</td>\n",
       "      <td>...</td>\n",
       "      <td>No</td>\n",
       "      <td>No</td>\n",
       "      <td>No</td>\n",
       "      <td>No</td>\n",
       "      <td>Month-to-month</td>\n",
       "      <td>Yes</td>\n",
       "      <td>Electronic check</td>\n",
       "      <td>69.50</td>\n",
       "      <td>69.5</td>\n",
       "      <td>Yes</td>\n",
       "    </tr>\n",
       "    <tr>\n",
       "      <th>6126</th>\n",
       "      <td>9190-MFJLN</td>\n",
       "      <td>Male</td>\n",
       "      <td>1</td>\n",
       "      <td>No</td>\n",
       "      <td>No</td>\n",
       "      <td>19</td>\n",
       "      <td>Yes</td>\n",
       "      <td>No</td>\n",
       "      <td>Fiber optic</td>\n",
       "      <td>No</td>\n",
       "      <td>...</td>\n",
       "      <td>Yes</td>\n",
       "      <td>No</td>\n",
       "      <td>Yes</td>\n",
       "      <td>Yes</td>\n",
       "      <td>Month-to-month</td>\n",
       "      <td>Yes</td>\n",
       "      <td>Credit card (automatic)</td>\n",
       "      <td>95.90</td>\n",
       "      <td>1777.9</td>\n",
       "      <td>Yes</td>\n",
       "    </tr>\n",
       "    <tr>\n",
       "      <th>6332</th>\n",
       "      <td>4378-MYPGO</td>\n",
       "      <td>Male</td>\n",
       "      <td>0</td>\n",
       "      <td>Yes</td>\n",
       "      <td>Yes</td>\n",
       "      <td>68</td>\n",
       "      <td>Yes</td>\n",
       "      <td>No</td>\n",
       "      <td>Fiber optic</td>\n",
       "      <td>Yes</td>\n",
       "      <td>...</td>\n",
       "      <td>Yes</td>\n",
       "      <td>No</td>\n",
       "      <td>Yes</td>\n",
       "      <td>Yes</td>\n",
       "      <td>Two year</td>\n",
       "      <td>Yes</td>\n",
       "      <td>Bank transfer (automatic)</td>\n",
       "      <td>105.25</td>\n",
       "      <td>7173.15</td>\n",
       "      <td>No</td>\n",
       "    </tr>\n",
       "    <tr>\n",
       "      <th>5386</th>\n",
       "      <td>6143-JQKEA</td>\n",
       "      <td>Male</td>\n",
       "      <td>0</td>\n",
       "      <td>No</td>\n",
       "      <td>No</td>\n",
       "      <td>10</td>\n",
       "      <td>Yes</td>\n",
       "      <td>No</td>\n",
       "      <td>DSL</td>\n",
       "      <td>No</td>\n",
       "      <td>...</td>\n",
       "      <td>No</td>\n",
       "      <td>No</td>\n",
       "      <td>No</td>\n",
       "      <td>No</td>\n",
       "      <td>Month-to-month</td>\n",
       "      <td>Yes</td>\n",
       "      <td>Credit card (automatic)</td>\n",
       "      <td>45.80</td>\n",
       "      <td>436.2</td>\n",
       "      <td>No</td>\n",
       "    </tr>\n",
       "    <tr>\n",
       "      <th>95</th>\n",
       "      <td>8637-XJIVR</td>\n",
       "      <td>Female</td>\n",
       "      <td>0</td>\n",
       "      <td>No</td>\n",
       "      <td>No</td>\n",
       "      <td>12</td>\n",
       "      <td>Yes</td>\n",
       "      <td>Yes</td>\n",
       "      <td>Fiber optic</td>\n",
       "      <td>Yes</td>\n",
       "      <td>...</td>\n",
       "      <td>No</td>\n",
       "      <td>No</td>\n",
       "      <td>No</td>\n",
       "      <td>No</td>\n",
       "      <td>Month-to-month</td>\n",
       "      <td>Yes</td>\n",
       "      <td>Electronic check</td>\n",
       "      <td>78.95</td>\n",
       "      <td>927.35</td>\n",
       "      <td>Yes</td>\n",
       "    </tr>\n",
       "  </tbody>\n",
       "</table>\n",
       "<p>5 rows × 21 columns</p>\n",
       "</div>"
      ],
      "text/plain": [
       "      customerID  gender  SeniorCitizen Partner Dependents  tenure  \\\n",
       "6488  0488-GSLFR  Female              0      No         No       1   \n",
       "6126  9190-MFJLN    Male              1      No         No      19   \n",
       "6332  4378-MYPGO    Male              0     Yes        Yes      68   \n",
       "5386  6143-JQKEA    Male              0      No         No      10   \n",
       "95    8637-XJIVR  Female              0      No         No      12   \n",
       "\n",
       "     PhoneService MultipleLines InternetService OnlineSecurity  ...  \\\n",
       "6488          Yes            No     Fiber optic             No  ...   \n",
       "6126          Yes            No     Fiber optic             No  ...   \n",
       "6332          Yes            No     Fiber optic            Yes  ...   \n",
       "5386          Yes            No             DSL             No  ...   \n",
       "95            Yes           Yes     Fiber optic            Yes  ...   \n",
       "\n",
       "     DeviceProtection TechSupport StreamingTV StreamingMovies        Contract  \\\n",
       "6488               No          No          No              No  Month-to-month   \n",
       "6126              Yes          No         Yes             Yes  Month-to-month   \n",
       "6332              Yes          No         Yes             Yes        Two year   \n",
       "5386               No          No          No              No  Month-to-month   \n",
       "95                 No          No          No              No  Month-to-month   \n",
       "\n",
       "     PaperlessBilling              PaymentMethod MonthlyCharges  TotalCharges  \\\n",
       "6488              Yes           Electronic check          69.50          69.5   \n",
       "6126              Yes    Credit card (automatic)          95.90        1777.9   \n",
       "6332              Yes  Bank transfer (automatic)         105.25       7173.15   \n",
       "5386              Yes    Credit card (automatic)          45.80         436.2   \n",
       "95                Yes           Electronic check          78.95        927.35   \n",
       "\n",
       "     Churn  \n",
       "6488   Yes  \n",
       "6126   Yes  \n",
       "6332    No  \n",
       "5386    No  \n",
       "95     Yes  \n",
       "\n",
       "[5 rows x 21 columns]"
      ]
     },
     "execution_count": 2,
     "metadata": {},
     "output_type": "execute_result"
    }
   ],
   "source": [
    "df=pd.read_csv('WA_Fn-UseC_-Telco-Customer-Churn.csv')\n",
    "df.sample(5)"
   ]
  },
  {
   "cell_type": "code",
   "execution_count": 3,
   "id": "8e9aebfb",
   "metadata": {},
   "outputs": [
    {
     "data": {
      "text/plain": [
       "(7043, 21)"
      ]
     },
     "execution_count": 3,
     "metadata": {},
     "output_type": "execute_result"
    }
   ],
   "source": [
    "df.shape"
   ]
  },
  {
   "cell_type": "code",
   "execution_count": 4,
   "id": "3966566f",
   "metadata": {},
   "outputs": [
    {
     "data": {
      "text/plain": [
       "array(['customerID', 'gender', 'SeniorCitizen', 'Partner', 'Dependents',\n",
       "       'tenure', 'PhoneService', 'MultipleLines', 'InternetService',\n",
       "       'OnlineSecurity', 'OnlineBackup', 'DeviceProtection',\n",
       "       'TechSupport', 'StreamingTV', 'StreamingMovies', 'Contract',\n",
       "       'PaperlessBilling', 'PaymentMethod', 'MonthlyCharges',\n",
       "       'TotalCharges', 'Churn'], dtype=object)"
      ]
     },
     "execution_count": 4,
     "metadata": {},
     "output_type": "execute_result"
    }
   ],
   "source": [
    "df.columns.values"
   ]
  },
  {
   "cell_type": "code",
   "execution_count": 5,
   "id": "301e9e9a",
   "metadata": {},
   "outputs": [
    {
     "data": {
      "text/html": [
       "<div>\n",
       "<style scoped>\n",
       "    .dataframe tbody tr th:only-of-type {\n",
       "        vertical-align: middle;\n",
       "    }\n",
       "\n",
       "    .dataframe tbody tr th {\n",
       "        vertical-align: top;\n",
       "    }\n",
       "\n",
       "    .dataframe thead th {\n",
       "        text-align: right;\n",
       "    }\n",
       "</style>\n",
       "<table border=\"1\" class=\"dataframe\">\n",
       "  <thead>\n",
       "    <tr style=\"text-align: right;\">\n",
       "      <th></th>\n",
       "      <th>SeniorCitizen</th>\n",
       "      <th>tenure</th>\n",
       "      <th>MonthlyCharges</th>\n",
       "    </tr>\n",
       "  </thead>\n",
       "  <tbody>\n",
       "    <tr>\n",
       "      <th>count</th>\n",
       "      <td>7043.000000</td>\n",
       "      <td>7043.000000</td>\n",
       "      <td>7043.000000</td>\n",
       "    </tr>\n",
       "    <tr>\n",
       "      <th>mean</th>\n",
       "      <td>0.162147</td>\n",
       "      <td>32.371149</td>\n",
       "      <td>64.761692</td>\n",
       "    </tr>\n",
       "    <tr>\n",
       "      <th>std</th>\n",
       "      <td>0.368612</td>\n",
       "      <td>24.559481</td>\n",
       "      <td>30.090047</td>\n",
       "    </tr>\n",
       "    <tr>\n",
       "      <th>min</th>\n",
       "      <td>0.000000</td>\n",
       "      <td>0.000000</td>\n",
       "      <td>18.250000</td>\n",
       "    </tr>\n",
       "    <tr>\n",
       "      <th>25%</th>\n",
       "      <td>0.000000</td>\n",
       "      <td>9.000000</td>\n",
       "      <td>35.500000</td>\n",
       "    </tr>\n",
       "    <tr>\n",
       "      <th>50%</th>\n",
       "      <td>0.000000</td>\n",
       "      <td>29.000000</td>\n",
       "      <td>70.350000</td>\n",
       "    </tr>\n",
       "    <tr>\n",
       "      <th>75%</th>\n",
       "      <td>0.000000</td>\n",
       "      <td>55.000000</td>\n",
       "      <td>89.850000</td>\n",
       "    </tr>\n",
       "    <tr>\n",
       "      <th>max</th>\n",
       "      <td>1.000000</td>\n",
       "      <td>72.000000</td>\n",
       "      <td>118.750000</td>\n",
       "    </tr>\n",
       "  </tbody>\n",
       "</table>\n",
       "</div>"
      ],
      "text/plain": [
       "       SeniorCitizen       tenure  MonthlyCharges\n",
       "count    7043.000000  7043.000000     7043.000000\n",
       "mean        0.162147    32.371149       64.761692\n",
       "std         0.368612    24.559481       30.090047\n",
       "min         0.000000     0.000000       18.250000\n",
       "25%         0.000000     9.000000       35.500000\n",
       "50%         0.000000    29.000000       70.350000\n",
       "75%         0.000000    55.000000       89.850000\n",
       "max         1.000000    72.000000      118.750000"
      ]
     },
     "execution_count": 5,
     "metadata": {},
     "output_type": "execute_result"
    }
   ],
   "source": [
    "df.describe()"
   ]
  },
  {
   "cell_type": "code",
   "execution_count": 6,
   "id": "59e83e14",
   "metadata": {},
   "outputs": [
    {
     "data": {
      "text/plain": [
       "object     18\n",
       "int64       2\n",
       "float64     1\n",
       "dtype: int64"
      ]
     },
     "execution_count": 6,
     "metadata": {},
     "output_type": "execute_result"
    }
   ],
   "source": [
    "df.dtypes.value_counts()"
   ]
  },
  {
   "cell_type": "code",
   "execution_count": 7,
   "id": "e22ffddd",
   "metadata": {},
   "outputs": [
    {
     "data": {
      "text/plain": [
       "customerID          0\n",
       "gender              0\n",
       "SeniorCitizen       0\n",
       "Partner             0\n",
       "Dependents          0\n",
       "tenure              0\n",
       "PhoneService        0\n",
       "MultipleLines       0\n",
       "InternetService     0\n",
       "OnlineSecurity      0\n",
       "OnlineBackup        0\n",
       "DeviceProtection    0\n",
       "TechSupport         0\n",
       "StreamingTV         0\n",
       "StreamingMovies     0\n",
       "Contract            0\n",
       "PaperlessBilling    0\n",
       "PaymentMethod       0\n",
       "MonthlyCharges      0\n",
       "TotalCharges        0\n",
       "Churn               0\n",
       "dtype: int64"
      ]
     },
     "execution_count": 7,
     "metadata": {},
     "output_type": "execute_result"
    }
   ],
   "source": [
    "df.isna().sum()"
   ]
  },
  {
   "cell_type": "code",
   "execution_count": 8,
   "id": "37c97088",
   "metadata": {},
   "outputs": [
    {
     "data": {
      "text/plain": [
       "No     0.73463\n",
       "Yes    0.26537\n",
       "Name: Churn, dtype: float64"
      ]
     },
     "execution_count": 8,
     "metadata": {},
     "output_type": "execute_result"
    }
   ],
   "source": [
    "#target var distribution\n",
    "df['Churn'].value_counts(normalize=True)"
   ]
  },
  {
   "cell_type": "code",
   "execution_count": 9,
   "id": "d4522d6b",
   "metadata": {},
   "outputs": [
    {
     "data": {
      "text/plain": [
       "<AxesSubplot: xlabel='Churn', ylabel='count'>"
      ]
     },
     "execution_count": 9,
     "metadata": {},
     "output_type": "execute_result"
    },
    {
     "data": {
      "image/png": "[encoded data removed]",
      "text/plain": [
       "<Figure size 640x480 with 1 Axes>"
      ]
     },
     "metadata": {},
     "output_type": "display_data"
    }
   ],
   "source": [
    "# df['Churn'].value_counts().plot(kind='bar')\n",
    "sns.countplot(x='Churn',data=df)"
   ]
  },
  {
   "cell_type": "code",
   "execution_count": 10,
   "id": "229bbf8d",
   "metadata": {},
   "outputs": [
    {
     "data": {
      "text/plain": [
       "Text(0.5, 1.0, 'churn count per gender')"
      ]
     },
     "execution_count": 10,
     "metadata": {},
     "output_type": "execute_result"
    },
    {
     "data": {
      "image/png": "[encoded data removed]",
      "text/plain": [
       "<Figure size 640x480 with 1 Axes>"
      ]
     },
     "metadata": {},
     "output_type": "display_data"
    }
   ],
   "source": [
    "sns.countplot(x='Churn',hue='gender',data=df)\n",
    "plt.title('churn count per gender')"
   ]
  },
  {
   "cell_type": "code",
   "execution_count": 11,
   "id": "65440b87",
   "metadata": {},
   "outputs": [
    {
     "data": {
      "text/plain": [
       "Text(0.5, 1.0, 'churn count per internet service')"
      ]
     },
     "execution_count": 11,
     "metadata": {},
     "output_type": "execute_result"
    },
    {
     "data": {
      "image/png": "[encoded data removed]",
      "text/plain": [
       "<Figure size 640x480 with 1 Axes>"
      ]
     },
     "metadata": {},
     "output_type": "display_data"
    }
   ],
   "source": [
    "#per internet service\n",
    "sns.countplot(x='Churn',hue='InternetService',data=df)\n",
    "plt.title('churn count per internet service')"
   ]
  },
  {
   "cell_type": "code",
   "execution_count": 12,
   "id": "a8e068a3",
   "metadata": {},
   "outputs": [
    {
     "data": {
      "text/plain": [
       "<matplotlib.legend.Legend at 0x1f6a8983820>"
      ]
     },
     "execution_count": 12,
     "metadata": {},
     "output_type": "execute_result"
    },
    {
     "data": {
      "image/png": "[encoded data removed]",
      "text/plain": [
       "<Figure size 640x480 with 1 Axes>"
      ]
     },
     "metadata": {},
     "output_type": "display_data"
    }
   ],
   "source": [
    "tenure_no=df[df['Churn']=='No'].tenure\n",
    "tenure_yes=df[df['Churn']=='Yes'].tenure\n",
    "plt.hist([tenure_yes,tenure_no],color=['green','red'],label=['Yes','No'])\n",
    "plt.legend()"
   ]
  },
  {
   "cell_type": "code",
   "execution_count": 13,
   "id": "75940eae",
   "metadata": {},
   "outputs": [
    {
     "data": {
      "text/plain": [
       "<matplotlib.legend.Legend at 0x1f6a8ab8a30>"
      ]
     },
     "execution_count": 13,
     "metadata": {},
     "output_type": "execute_result"
    },
    {
     "data": {
      "image/png": "[encoded data removed]",
      "text/plain": [
       "<Figure size 640x480 with 1 Axes>"
      ]
     },
     "metadata": {},
     "output_type": "display_data"
    }
   ],
   "source": [
    "MonthlyCharges_no=df[df['Churn']=='No'].MonthlyCharges\n",
    "MonthlyCharges_yes=df[df['Churn']=='Yes'].MonthlyCharges\n",
    "plt.hist([MonthlyCharges_yes,MonthlyCharges_no],color=['green','red'],label=['Yes','No'])\n",
    "plt.legend()"
   ]
  },
  {
   "cell_type": "code",
   "execution_count": 14,
   "id": "c67252e7",
   "metadata": {},
   "outputs": [
    {
     "name": "stdout",
     "output_type": "stream",
     "text": [
      "customerID   ['7590-VHVEG' '5575-GNVDE' '3668-QPYBK' ... '4801-JZAZL' '8361-LTMKD'\n",
      " '3186-AJIEK']\n",
      "gender   ['Female' 'Male']\n",
      "Partner   ['Yes' 'No']\n",
      "Dependents   ['No' 'Yes']\n",
      "PhoneService   ['No' 'Yes']\n",
      "MultipleLines   ['No phone service' 'No' 'Yes']\n",
      "InternetService   ['DSL' 'Fiber optic' 'No']\n",
      "OnlineSecurity   ['No' 'Yes' 'No internet service']\n",
      "OnlineBackup   ['Yes' 'No' 'No internet service']\n",
      "DeviceProtection   ['No' 'Yes' 'No internet service']\n",
      "TechSupport   ['No' 'Yes' 'No internet service']\n",
      "StreamingTV   ['No' 'Yes' 'No internet service']\n",
      "StreamingMovies   ['No' 'Yes' 'No internet service']\n",
      "Contract   ['Month-to-month' 'One year' 'Two year']\n",
      "PaperlessBilling   ['Yes' 'No']\n",
      "PaymentMethod   ['Electronic check' 'Mailed check' 'Bank transfer (automatic)'\n",
      " 'Credit card (automatic)']\n",
      "TotalCharges   ['29.85' '1889.5' '108.15' ... '346.45' '306.6' '6844.5']\n",
      "Churn   ['No' 'Yes']\n"
     ]
    }
   ],
   "source": [
    "#label encoding \n",
    "from sklearn.preprocessing import LabelEncoder\n",
    "for col in df.select_dtypes('object'):\n",
    "    print(col,' ',df[col].unique())"
   ]
  },
  {
   "cell_type": "code",
   "execution_count": 15,
   "id": "79df881f",
   "metadata": {},
   "outputs": [],
   "source": [
    "df.drop('customerID',axis=1,inplace=True)"
   ]
  },
  {
   "cell_type": "code",
   "execution_count": 16,
   "id": "cc62f0c7",
   "metadata": {},
   "outputs": [],
   "source": [
    "df.replace('No internet service','No',inplace=True)\n",
    "df.replace('No phone service','No',inplace=True)"
   ]
  },
  {
   "cell_type": "code",
   "execution_count": 17,
   "id": "8f9040be",
   "metadata": {},
   "outputs": [
    {
     "name": "stdout",
     "output_type": "stream",
     "text": [
      "gender   ['Female' 'Male']\n",
      "Partner   ['Yes' 'No']\n",
      "Dependents   ['No' 'Yes']\n",
      "PhoneService   ['No' 'Yes']\n",
      "MultipleLines   ['No' 'Yes']\n",
      "InternetService   ['DSL' 'Fiber optic' 'No']\n",
      "OnlineSecurity   ['No' 'Yes']\n",
      "OnlineBackup   ['Yes' 'No']\n",
      "DeviceProtection   ['No' 'Yes']\n",
      "TechSupport   ['No' 'Yes']\n",
      "StreamingTV   ['No' 'Yes']\n",
      "StreamingMovies   ['No' 'Yes']\n",
      "Contract   ['Month-to-month' 'One year' 'Two year']\n",
      "PaperlessBilling   ['Yes' 'No']\n",
      "PaymentMethod   ['Electronic check' 'Mailed check' 'Bank transfer (automatic)'\n",
      " 'Credit card (automatic)']\n",
      "TotalCharges   ['29.85' '1889.5' '108.15' ... '346.45' '306.6' '6844.5']\n",
      "Churn   ['No' 'Yes']\n"
     ]
    }
   ],
   "source": [
    "for col in df.select_dtypes('object'):\n",
    "    print(col,' ',df[col].unique())"
   ]
  },
  {
   "cell_type": "code",
   "execution_count": 18,
   "id": "f769ea34",
   "metadata": {},
   "outputs": [],
   "source": [
    "df=df[df['TotalCharges']!=' ']"
   ]
  },
  {
   "cell_type": "code",
   "execution_count": 19,
   "id": "18ea4597",
   "metadata": {},
   "outputs": [
    {
     "data": {
      "text/plain": [
       "(7032, 20)"
      ]
     },
     "execution_count": 19,
     "metadata": {},
     "output_type": "execute_result"
    }
   ],
   "source": [
    "df.shape"
   ]
  },
  {
   "cell_type": "code",
   "execution_count": 20,
   "id": "c765edb6",
   "metadata": {},
   "outputs": [],
   "source": [
    "df['TotalCharges']=df['TotalCharges'].apply(pd.to_numeric)"
   ]
  },
  {
   "cell_type": "code",
   "execution_count": 21,
   "id": "a3aa83cf",
   "metadata": {},
   "outputs": [
    {
     "data": {
      "text/plain": [
       "gender               object\n",
       "SeniorCitizen         int64\n",
       "Partner              object\n",
       "Dependents           object\n",
       "tenure                int64\n",
       "PhoneService         object\n",
       "MultipleLines        object\n",
       "InternetService      object\n",
       "OnlineSecurity       object\n",
       "OnlineBackup         object\n",
       "DeviceProtection     object\n",
       "TechSupport          object\n",
       "StreamingTV          object\n",
       "StreamingMovies      object\n",
       "Contract             object\n",
       "PaperlessBilling     object\n",
       "PaymentMethod        object\n",
       "MonthlyCharges      float64\n",
       "TotalCharges        float64\n",
       "Churn                object\n",
       "dtype: object"
      ]
     },
     "execution_count": 21,
     "metadata": {},
     "output_type": "execute_result"
    }
   ],
   "source": [
    "df.dtypes"
   ]
  },
  {
   "cell_type": "code",
   "execution_count": 22,
   "id": "c5f18bec",
   "metadata": {},
   "outputs": [
    {
     "data": {
      "text/html": [
       "<div>\n",
       "<style scoped>\n",
       "    .dataframe tbody tr th:only-of-type {\n",
       "        vertical-align: middle;\n",
       "    }\n",
       "\n",
       "    .dataframe tbody tr th {\n",
       "        vertical-align: top;\n",
       "    }\n",
       "\n",
       "    .dataframe thead th {\n",
       "        text-align: right;\n",
       "    }\n",
       "</style>\n",
       "<table border=\"1\" class=\"dataframe\">\n",
       "  <thead>\n",
       "    <tr style=\"text-align: right;\">\n",
       "      <th></th>\n",
       "      <th>SeniorCitizen</th>\n",
       "      <th>tenure</th>\n",
       "      <th>MonthlyCharges</th>\n",
       "      <th>TotalCharges</th>\n",
       "    </tr>\n",
       "  </thead>\n",
       "  <tbody>\n",
       "    <tr>\n",
       "      <th>count</th>\n",
       "      <td>7032.000000</td>\n",
       "      <td>7032.000000</td>\n",
       "      <td>7032.000000</td>\n",
       "      <td>7032.000000</td>\n",
       "    </tr>\n",
       "    <tr>\n",
       "      <th>mean</th>\n",
       "      <td>0.162400</td>\n",
       "      <td>32.421786</td>\n",
       "      <td>64.798208</td>\n",
       "      <td>2283.300441</td>\n",
       "    </tr>\n",
       "    <tr>\n",
       "      <th>std</th>\n",
       "      <td>0.368844</td>\n",
       "      <td>24.545260</td>\n",
       "      <td>30.085974</td>\n",
       "      <td>2266.771362</td>\n",
       "    </tr>\n",
       "    <tr>\n",
       "      <th>min</th>\n",
       "      <td>0.000000</td>\n",
       "      <td>1.000000</td>\n",
       "      <td>18.250000</td>\n",
       "      <td>18.800000</td>\n",
       "    </tr>\n",
       "    <tr>\n",
       "      <th>25%</th>\n",
       "      <td>0.000000</td>\n",
       "      <td>9.000000</td>\n",
       "      <td>35.587500</td>\n",
       "      <td>401.450000</td>\n",
       "    </tr>\n",
       "    <tr>\n",
       "      <th>50%</th>\n",
       "      <td>0.000000</td>\n",
       "      <td>29.000000</td>\n",
       "      <td>70.350000</td>\n",
       "      <td>1397.475000</td>\n",
       "    </tr>\n",
       "    <tr>\n",
       "      <th>75%</th>\n",
       "      <td>0.000000</td>\n",
       "      <td>55.000000</td>\n",
       "      <td>89.862500</td>\n",
       "      <td>3794.737500</td>\n",
       "    </tr>\n",
       "    <tr>\n",
       "      <th>max</th>\n",
       "      <td>1.000000</td>\n",
       "      <td>72.000000</td>\n",
       "      <td>118.750000</td>\n",
       "      <td>8684.800000</td>\n",
       "    </tr>\n",
       "  </tbody>\n",
       "</table>\n",
       "</div>"
      ],
      "text/plain": [
       "       SeniorCitizen       tenure  MonthlyCharges  TotalCharges\n",
       "count    7032.000000  7032.000000     7032.000000   7032.000000\n",
       "mean        0.162400    32.421786       64.798208   2283.300441\n",
       "std         0.368844    24.545260       30.085974   2266.771362\n",
       "min         0.000000     1.000000       18.250000     18.800000\n",
       "25%         0.000000     9.000000       35.587500    401.450000\n",
       "50%         0.000000    29.000000       70.350000   1397.475000\n",
       "75%         0.000000    55.000000       89.862500   3794.737500\n",
       "max         1.000000    72.000000      118.750000   8684.800000"
      ]
     },
     "execution_count": 22,
     "metadata": {},
     "output_type": "execute_result"
    }
   ],
   "source": [
    "df.describe()"
   ]
  },
  {
   "cell_type": "code",
   "execution_count": 23,
   "id": "dba25d7c",
   "metadata": {},
   "outputs": [],
   "source": [
    "#encoding yes/no columns\n",
    "yes_no_columns = ['Partner','Dependents','PhoneService','MultipleLines','OnlineSecurity','OnlineBackup',\n",
    "                  'DeviceProtection','TechSupport','StreamingTV','StreamingMovies','PaperlessBilling','Churn']\n",
    "for col in yes_no_columns:\n",
    "    df[col].replace({'Yes':1,'No':0},inplace=True)\n"
   ]
  },
  {
   "cell_type": "code",
   "execution_count": 24,
   "id": "0ac1fdae",
   "metadata": {},
   "outputs": [
    {
     "name": "stdout",
     "output_type": "stream",
     "text": [
      "gender   ['Female' 'Male']\n",
      "SeniorCitizen   [0 1]\n",
      "Partner   [1 0]\n",
      "Dependents   [0 1]\n",
      "tenure   [ 1 34  2 45  8 22 10 28 62 13 16 58 49 25 69 52 71 21 12 30 47 72 17 27\n",
      "  5 46 11 70 63 43 15 60 18 66  9  3 31 50 64 56  7 42 35 48 29 65 38 68\n",
      " 32 55 37 36 41  6  4 33 67 23 57 61 14 20 53 40 59 24 44 19 54 51 26 39]\n",
      "PhoneService   [0 1]\n",
      "MultipleLines   [0 1]\n",
      "InternetService   ['DSL' 'Fiber optic' 'No']\n",
      "OnlineSecurity   [0 1]\n",
      "OnlineBackup   [1 0]\n",
      "DeviceProtection   [0 1]\n",
      "TechSupport   [0 1]\n",
      "StreamingTV   [0 1]\n",
      "StreamingMovies   [0 1]\n",
      "Contract   ['Month-to-month' 'One year' 'Two year']\n",
      "PaperlessBilling   [1 0]\n",
      "PaymentMethod   ['Electronic check' 'Mailed check' 'Bank transfer (automatic)'\n",
      " 'Credit card (automatic)']\n",
      "MonthlyCharges   [29.85 56.95 53.85 ... 63.1  44.2  78.7 ]\n",
      "TotalCharges   [  29.85 1889.5   108.15 ...  346.45  306.6  6844.5 ]\n",
      "Churn   [0 1]\n"
     ]
    }
   ],
   "source": [
    "for col in df.columns:\n",
    "    print(col,' ',df[col].unique())"
   ]
  },
  {
   "cell_type": "code",
   "execution_count": 25,
   "id": "d79690db",
   "metadata": {},
   "outputs": [],
   "source": [
    "df['gender'].replace({'Female':1,'Male':0},inplace=True)"
   ]
  },
  {
   "cell_type": "code",
   "execution_count": 26,
   "id": "bba6d6c3",
   "metadata": {},
   "outputs": [
    {
     "data": {
      "text/plain": [
       "array([1, 0], dtype=int64)"
      ]
     },
     "execution_count": 26,
     "metadata": {},
     "output_type": "execute_result"
    }
   ],
   "source": [
    "df.gender.unique()"
   ]
  },
  {
   "cell_type": "code",
   "execution_count": 27,
   "id": "4ac8b417",
   "metadata": {},
   "outputs": [
    {
     "data": {
      "text/plain": [
       "array(['gender', 'SeniorCitizen', 'Partner', 'Dependents', 'tenure',\n",
       "       'PhoneService', 'MultipleLines', 'OnlineSecurity', 'OnlineBackup',\n",
       "       'DeviceProtection', 'TechSupport', 'StreamingTV',\n",
       "       'StreamingMovies', 'PaperlessBilling', 'MonthlyCharges',\n",
       "       'TotalCharges', 'Churn', 'InternetService_DSL',\n",
       "       'InternetService_Fiber optic', 'InternetService_No',\n",
       "       'Contract_Month-to-month', 'Contract_One year',\n",
       "       'Contract_Two year', 'PaymentMethod_Bank transfer (automatic)',\n",
       "       'PaymentMethod_Credit card (automatic)',\n",
       "       'PaymentMethod_Electronic check', 'PaymentMethod_Mailed check'],\n",
       "      dtype=object)"
      ]
     },
     "execution_count": 27,
     "metadata": {},
     "output_type": "execute_result"
    }
   ],
   "source": [
    "#One hot encoding for multi-categorical features\n",
    "#we will use pd.get_dummies()\n",
    "df=pd.get_dummies(data=df,columns=['InternetService','Contract','PaymentMethod'])\n",
    "df.columns.values"
   ]
  },
  {
   "cell_type": "code",
   "execution_count": 28,
   "id": "00b2cda9",
   "metadata": {},
   "outputs": [
    {
     "data": {
      "text/plain": [
       "27"
      ]
     },
     "execution_count": 28,
     "metadata": {},
     "output_type": "execute_result"
    }
   ],
   "source": [
    "len(df.columns)"
   ]
  },
  {
   "cell_type": "code",
   "execution_count": 33,
   "id": "9476ba3f",
   "metadata": {},
   "outputs": [
    {
     "data": {
      "text/plain": [
       "gender                                       int64\n",
       "SeniorCitizen                                int64\n",
       "Partner                                      int64\n",
       "Dependents                                   int64\n",
       "tenure                                       int64\n",
       "PhoneService                                 int64\n",
       "MultipleLines                                int64\n",
       "OnlineSecurity                               int64\n",
       "OnlineBackup                                 int64\n",
       "DeviceProtection                             int64\n",
       "TechSupport                                  int64\n",
       "StreamingTV                                  int64\n",
       "StreamingMovies                              int64\n",
       "PaperlessBilling                             int64\n",
       "MonthlyCharges                             float64\n",
       "TotalCharges                               float64\n",
       "Churn                                        int64\n",
       "InternetService_DSL                          uint8\n",
       "InternetService_Fiber optic                  uint8\n",
       "InternetService_No                           uint8\n",
       "Contract_Month-to-month                      uint8\n",
       "Contract_One year                            uint8\n",
       "Contract_Two year                            uint8\n",
       "PaymentMethod_Bank transfer (automatic)      uint8\n",
       "PaymentMethod_Credit card (automatic)        uint8\n",
       "PaymentMethod_Electronic check               uint8\n",
       "PaymentMethod_Mailed check                   uint8\n",
       "dtype: object"
      ]
     },
     "execution_count": 33,
     "metadata": {},
     "output_type": "execute_result"
    }
   ],
   "source": [
    "df.dtypes"
   ]
  },
  {
   "cell_type": "code",
   "execution_count": 35,
   "id": "6b887eca",
   "metadata": {},
   "outputs": [],
   "source": [
    "#Scaling \n",
    "from sklearn.preprocessing import MinMaxScaler\n",
    "cols_to_scale=['tenure','MonthlyCharges','TotalCharges']\n",
    "scaler=MinMaxScaler()\n",
    "df[cols_to_scale]=scaler.fit_transform(df[cols_to_scale])"
   ]
  },
  {
   "cell_type": "code",
   "execution_count": 36,
   "id": "2cc0cf7b",
   "metadata": {},
   "outputs": [
    {
     "data": {
      "text/html": [
       "<div>\n",
       "<style scoped>\n",
       "    .dataframe tbody tr th:only-of-type {\n",
       "        vertical-align: middle;\n",
       "    }\n",
       "\n",
       "    .dataframe tbody tr th {\n",
       "        vertical-align: top;\n",
       "    }\n",
       "\n",
       "    .dataframe thead th {\n",
       "        text-align: right;\n",
       "    }\n",
       "</style>\n",
       "<table border=\"1\" class=\"dataframe\">\n",
       "  <thead>\n",
       "    <tr style=\"text-align: right;\">\n",
       "      <th></th>\n",
       "      <th>tenure</th>\n",
       "      <th>MonthlyCharges</th>\n",
       "      <th>TotalCharges</th>\n",
       "    </tr>\n",
       "  </thead>\n",
       "  <tbody>\n",
       "    <tr>\n",
       "      <th>0</th>\n",
       "      <td>0.000000</td>\n",
       "      <td>0.115423</td>\n",
       "      <td>0.001275</td>\n",
       "    </tr>\n",
       "    <tr>\n",
       "      <th>1</th>\n",
       "      <td>0.464789</td>\n",
       "      <td>0.385075</td>\n",
       "      <td>0.215867</td>\n",
       "    </tr>\n",
       "    <tr>\n",
       "      <th>2</th>\n",
       "      <td>0.014085</td>\n",
       "      <td>0.354229</td>\n",
       "      <td>0.010310</td>\n",
       "    </tr>\n",
       "    <tr>\n",
       "      <th>3</th>\n",
       "      <td>0.619718</td>\n",
       "      <td>0.239303</td>\n",
       "      <td>0.210241</td>\n",
       "    </tr>\n",
       "    <tr>\n",
       "      <th>4</th>\n",
       "      <td>0.014085</td>\n",
       "      <td>0.521891</td>\n",
       "      <td>0.015330</td>\n",
       "    </tr>\n",
       "    <tr>\n",
       "      <th>...</th>\n",
       "      <td>...</td>\n",
       "      <td>...</td>\n",
       "      <td>...</td>\n",
       "    </tr>\n",
       "    <tr>\n",
       "      <th>7038</th>\n",
       "      <td>0.323944</td>\n",
       "      <td>0.662189</td>\n",
       "      <td>0.227521</td>\n",
       "    </tr>\n",
       "    <tr>\n",
       "      <th>7039</th>\n",
       "      <td>1.000000</td>\n",
       "      <td>0.845274</td>\n",
       "      <td>0.847461</td>\n",
       "    </tr>\n",
       "    <tr>\n",
       "      <th>7040</th>\n",
       "      <td>0.140845</td>\n",
       "      <td>0.112935</td>\n",
       "      <td>0.037809</td>\n",
       "    </tr>\n",
       "    <tr>\n",
       "      <th>7041</th>\n",
       "      <td>0.042254</td>\n",
       "      <td>0.558706</td>\n",
       "      <td>0.033210</td>\n",
       "    </tr>\n",
       "    <tr>\n",
       "      <th>7042</th>\n",
       "      <td>0.915493</td>\n",
       "      <td>0.869652</td>\n",
       "      <td>0.787641</td>\n",
       "    </tr>\n",
       "  </tbody>\n",
       "</table>\n",
       "<p>7032 rows × 3 columns</p>\n",
       "</div>"
      ],
      "text/plain": [
       "        tenure  MonthlyCharges  TotalCharges\n",
       "0     0.000000        0.115423      0.001275\n",
       "1     0.464789        0.385075      0.215867\n",
       "2     0.014085        0.354229      0.010310\n",
       "3     0.619718        0.239303      0.210241\n",
       "4     0.014085        0.521891      0.015330\n",
       "...        ...             ...           ...\n",
       "7038  0.323944        0.662189      0.227521\n",
       "7039  1.000000        0.845274      0.847461\n",
       "7040  0.140845        0.112935      0.037809\n",
       "7041  0.042254        0.558706      0.033210\n",
       "7042  0.915493        0.869652      0.787641\n",
       "\n",
       "[7032 rows x 3 columns]"
      ]
     },
     "execution_count": 36,
     "metadata": {},
     "output_type": "execute_result"
    }
   ],
   "source": [
    "df[cols_to_scale]"
   ]
  },
  {
   "cell_type": "code",
   "execution_count": 37,
   "id": "83e9c6cd",
   "metadata": {},
   "outputs": [],
   "source": [
    "X=df.drop('Churn',axis=1)\n",
    "y=df['Churn']\n",
    "from sklearn.model_selection import train_test_split\n",
    "X_train,X_test,y_train,y_test=train_test_split(X,y,test_size=0.2,random_state=42)"
   ]
  },
  {
   "cell_type": "code",
   "execution_count": 38,
   "id": "5ee2d73e",
   "metadata": {},
   "outputs": [
    {
     "data": {
      "text/plain": [
       "(5625, 26)"
      ]
     },
     "execution_count": 38,
     "metadata": {},
     "output_type": "execute_result"
    }
   ],
   "source": [
    "X_train.shape"
   ]
  },
  {
   "cell_type": "code",
   "execution_count": 40,
   "id": "40e8b747",
   "metadata": {},
   "outputs": [
    {
     "data": {
      "text/plain": [
       "(1407, 26)"
      ]
     },
     "execution_count": 40,
     "metadata": {},
     "output_type": "execute_result"
    }
   ],
   "source": [
    "X_test.shape"
   ]
  },
  {
   "cell_type": "code",
   "execution_count": 62,
   "id": "08c2dd46",
   "metadata": {},
   "outputs": [
    {
     "name": "stdout",
     "output_type": "stream",
     "text": [
      "Epoch 1/100\n",
      "176/176 [==============================] - 1s 4ms/step - loss: 0.4924 - accuracy: 0.7573 - recall: 0.2234\n",
      "Epoch 2/100\n",
      "176/176 [==============================] - 1s 4ms/step - loss: 0.4263 - accuracy: 0.7941 - recall: 0.5144\n",
      "Epoch 3/100\n",
      "176/176 [==============================] - 1s 4ms/step - loss: 0.4193 - accuracy: 0.7993 - recall: 0.5264\n",
      "Epoch 4/100\n",
      "176/176 [==============================] - 1s 4ms/step - loss: 0.4154 - accuracy: 0.8053 - recall: 0.5445\n",
      "Epoch 5/100\n",
      "176/176 [==============================] - 1s 4ms/step - loss: 0.4139 - accuracy: 0.8036 - recall: 0.5391\n",
      "Epoch 6/100\n",
      "176/176 [==============================] - 1s 4ms/step - loss: 0.4117 - accuracy: 0.8059 - recall: 0.5478\n",
      "Epoch 7/100\n",
      "176/176 [==============================] - 1s 4ms/step - loss: 0.4106 - accuracy: 0.8101 - recall: 0.5525\n",
      "Epoch 8/100\n",
      "176/176 [==============================] - 1s 4ms/step - loss: 0.4082 - accuracy: 0.8089 - recall: 0.5385\n",
      "Epoch 9/100\n",
      "176/176 [==============================] - 1s 4ms/step - loss: 0.4065 - accuracy: 0.8107 - recall: 0.5632\n",
      "Epoch 10/100\n",
      "176/176 [==============================] - 1s 4ms/step - loss: 0.4045 - accuracy: 0.8076 - recall: 0.5398\n",
      "Epoch 11/100\n",
      "176/176 [==============================] - 1s 4ms/step - loss: 0.4037 - accuracy: 0.8116 - recall: 0.5559\n",
      "Epoch 12/100\n",
      "176/176 [==============================] - 1s 4ms/step - loss: 0.4018 - accuracy: 0.8105 - recall: 0.5545\n",
      "Epoch 13/100\n",
      "176/176 [==============================] - 1s 4ms/step - loss: 0.4008 - accuracy: 0.8126 - recall: 0.5579\n",
      "Epoch 14/100\n",
      "176/176 [==============================] - 1s 4ms/step - loss: 0.4006 - accuracy: 0.8144 - recall: 0.5505\n",
      "Epoch 15/100\n",
      "176/176 [==============================] - 1s 4ms/step - loss: 0.3991 - accuracy: 0.8144 - recall: 0.5625\n",
      "Epoch 16/100\n",
      "176/176 [==============================] - 1s 4ms/step - loss: 0.3977 - accuracy: 0.8128 - recall: 0.5692\n",
      "Epoch 17/100\n",
      "176/176 [==============================] - 1s 4ms/step - loss: 0.3966 - accuracy: 0.8119 - recall: 0.5478\n",
      "Epoch 18/100\n",
      "176/176 [==============================] - 1s 4ms/step - loss: 0.3968 - accuracy: 0.8139 - recall: 0.5612\n",
      "Epoch 19/100\n",
      "176/176 [==============================] - 1s 4ms/step - loss: 0.3944 - accuracy: 0.8135 - recall: 0.5625\n",
      "Epoch 20/100\n",
      "176/176 [==============================] - 1s 4ms/step - loss: 0.3949 - accuracy: 0.8151 - recall: 0.5619\n",
      "Epoch 21/100\n",
      "176/176 [==============================] - 1s 4ms/step - loss: 0.3921 - accuracy: 0.8130 - recall: 0.5672\n",
      "Epoch 22/100\n",
      "176/176 [==============================] - 1s 4ms/step - loss: 0.3927 - accuracy: 0.8164 - recall: 0.5786\n",
      "Epoch 23/100\n",
      "176/176 [==============================] - 1s 4ms/step - loss: 0.3924 - accuracy: 0.8164 - recall: 0.5699\n",
      "Epoch 24/100\n",
      "176/176 [==============================] - 1s 4ms/step - loss: 0.3911 - accuracy: 0.8135 - recall: 0.5532\n",
      "Epoch 25/100\n",
      "176/176 [==============================] - 1s 4ms/step - loss: 0.3901 - accuracy: 0.8133 - recall: 0.5712\n",
      "Epoch 26/100\n",
      "176/176 [==============================] - 1s 4ms/step - loss: 0.3899 - accuracy: 0.8180 - recall: 0.5712\n",
      "Epoch 27/100\n",
      "176/176 [==============================] - 1s 4ms/step - loss: 0.3897 - accuracy: 0.8137 - recall: 0.5619\n",
      "Epoch 28/100\n",
      "176/176 [==============================] - 1s 4ms/step - loss: 0.3868 - accuracy: 0.8197 - recall: 0.5880\n",
      "Epoch 29/100\n",
      "176/176 [==============================] - 1s 4ms/step - loss: 0.3884 - accuracy: 0.8165 - recall: 0.5712\n",
      "Epoch 30/100\n",
      "176/176 [==============================] - 1s 4ms/step - loss: 0.3859 - accuracy: 0.8201 - recall: 0.5813\n",
      "Epoch 31/100\n",
      "176/176 [==============================] - 1s 4ms/step - loss: 0.3859 - accuracy: 0.8172 - recall: 0.5659\n",
      "Epoch 32/100\n",
      "176/176 [==============================] - 1s 4ms/step - loss: 0.3850 - accuracy: 0.8210 - recall: 0.5759\n",
      "Epoch 33/100\n",
      "176/176 [==============================] - 1s 4ms/step - loss: 0.3838 - accuracy: 0.8190 - recall: 0.5826\n",
      "Epoch 34/100\n",
      "176/176 [==============================] - 1s 4ms/step - loss: 0.3855 - accuracy: 0.8171 - recall: 0.5739\n",
      "Epoch 35/100\n",
      "176/176 [==============================] - 1s 4ms/step - loss: 0.3838 - accuracy: 0.8178 - recall: 0.5739\n",
      "Epoch 36/100\n",
      "176/176 [==============================] - 1s 4ms/step - loss: 0.3830 - accuracy: 0.8178 - recall: 0.5773\n",
      "Epoch 37/100\n",
      "176/176 [==============================] - 1s 4ms/step - loss: 0.3821 - accuracy: 0.8187 - recall: 0.5766\n",
      "Epoch 38/100\n",
      "176/176 [==============================] - 1s 4ms/step - loss: 0.3812 - accuracy: 0.8208 - recall: 0.5819\n",
      "Epoch 39/100\n",
      "176/176 [==============================] - 1s 4ms/step - loss: 0.3810 - accuracy: 0.8226 - recall: 0.5813\n",
      "Epoch 40/100\n",
      "176/176 [==============================] - 1s 4ms/step - loss: 0.3795 - accuracy: 0.8217 - recall: 0.5826\n",
      "Epoch 41/100\n",
      "176/176 [==============================] - 1s 4ms/step - loss: 0.3781 - accuracy: 0.8212 - recall: 0.5806\n",
      "Epoch 42/100\n",
      "176/176 [==============================] - 1s 4ms/step - loss: 0.3780 - accuracy: 0.8206 - recall: 0.5799\n",
      "Epoch 43/100\n",
      "176/176 [==============================] - 1s 4ms/step - loss: 0.3786 - accuracy: 0.8190 - recall: 0.5860\n",
      "Epoch 44/100\n",
      "176/176 [==============================] - 1s 4ms/step - loss: 0.3766 - accuracy: 0.8231 - recall: 0.5833\n",
      "Epoch 45/100\n",
      "176/176 [==============================] - 1s 4ms/step - loss: 0.3767 - accuracy: 0.8220 - recall: 0.5819\n",
      "Epoch 46/100\n",
      "176/176 [==============================] - 1s 4ms/step - loss: 0.3755 - accuracy: 0.8247 - recall: 0.5920\n",
      "Epoch 47/100\n",
      "176/176 [==============================] - 1s 4ms/step - loss: 0.3740 - accuracy: 0.8210 - recall: 0.5913\n",
      "Epoch 48/100\n",
      "176/176 [==============================] - 1s 4ms/step - loss: 0.3743 - accuracy: 0.8220 - recall: 0.5732\n",
      "Epoch 49/100\n",
      "176/176 [==============================] - 1s 4ms/step - loss: 0.3734 - accuracy: 0.8242 - recall: 0.5886\n",
      "Epoch 50/100\n",
      "176/176 [==============================] - 1s 4ms/step - loss: 0.3733 - accuracy: 0.8204 - recall: 0.5860\n",
      "Epoch 51/100\n",
      "176/176 [==============================] - 1s 4ms/step - loss: 0.3720 - accuracy: 0.8220 - recall: 0.5880\n",
      "Epoch 52/100\n",
      "176/176 [==============================] - 1s 4ms/step - loss: 0.3715 - accuracy: 0.8276 - recall: 0.6060\n",
      "Epoch 53/100\n",
      "176/176 [==============================] - 1s 4ms/step - loss: 0.3722 - accuracy: 0.8222 - recall: 0.5886\n",
      "Epoch 54/100\n",
      "176/176 [==============================] - 1s 4ms/step - loss: 0.3714 - accuracy: 0.8254 - recall: 0.5846\n",
      "Epoch 55/100\n",
      "176/176 [==============================] - 1s 4ms/step - loss: 0.3696 - accuracy: 0.8252 - recall: 0.5866\n",
      "Epoch 56/100\n",
      "176/176 [==============================] - 1s 4ms/step - loss: 0.3696 - accuracy: 0.8270 - recall: 0.6000\n",
      "Epoch 57/100\n",
      "176/176 [==============================] - 1s 4ms/step - loss: 0.3690 - accuracy: 0.8268 - recall: 0.5880\n",
      "Epoch 58/100\n",
      "176/176 [==============================] - 1s 4ms/step - loss: 0.3683 - accuracy: 0.8251 - recall: 0.5993\n",
      "Epoch 59/100\n",
      "176/176 [==============================] - 1s 4ms/step - loss: 0.3666 - accuracy: 0.8261 - recall: 0.5940\n",
      "Epoch 60/100\n",
      "176/176 [==============================] - 1s 4ms/step - loss: 0.3665 - accuracy: 0.8283 - recall: 0.5953\n",
      "Epoch 61/100\n",
      "176/176 [==============================] - 1s 4ms/step - loss: 0.3665 - accuracy: 0.8284 - recall: 0.6007\n",
      "Epoch 62/100\n",
      "176/176 [==============================] - 1s 4ms/step - loss: 0.3649 - accuracy: 0.8286 - recall: 0.5987\n",
      "Epoch 63/100\n",
      "176/176 [==============================] - 1s 4ms/step - loss: 0.3653 - accuracy: 0.8272 - recall: 0.6020\n",
      "Epoch 64/100\n",
      "176/176 [==============================] - 1s 4ms/step - loss: 0.3657 - accuracy: 0.8260 - recall: 0.5967\n",
      "Epoch 65/100\n",
      "176/176 [==============================] - 1s 4ms/step - loss: 0.3648 - accuracy: 0.8261 - recall: 0.5933\n",
      "Epoch 66/100\n",
      "176/176 [==============================] - 1s 4ms/step - loss: 0.3632 - accuracy: 0.8284 - recall: 0.5973\n",
      "Epoch 67/100\n",
      "176/176 [==============================] - 1s 4ms/step - loss: 0.3647 - accuracy: 0.8249 - recall: 0.5973\n",
      "Epoch 68/100\n",
      "176/176 [==============================] - 1s 4ms/step - loss: 0.3623 - accuracy: 0.8290 - recall: 0.6067\n",
      "Epoch 69/100\n"
     ]
    },
    {
     "name": "stdout",
     "output_type": "stream",
     "text": [
      "176/176 [==============================] - 1s 4ms/step - loss: 0.3615 - accuracy: 0.8336 - recall: 0.6067\n",
      "Epoch 70/100\n",
      "176/176 [==============================] - 1s 4ms/step - loss: 0.3611 - accuracy: 0.8315 - recall: 0.6087\n",
      "Epoch 71/100\n",
      "176/176 [==============================] - 1s 4ms/step - loss: 0.3600 - accuracy: 0.8302 - recall: 0.6134\n",
      "Epoch 72/100\n",
      "176/176 [==============================] - 1s 4ms/step - loss: 0.3612 - accuracy: 0.8300 - recall: 0.6000\n",
      "Epoch 73/100\n",
      "176/176 [==============================] - 1s 4ms/step - loss: 0.3620 - accuracy: 0.8295 - recall: 0.6114\n",
      "Epoch 74/100\n",
      "176/176 [==============================] - 1s 4ms/step - loss: 0.3603 - accuracy: 0.8336 - recall: 0.6087\n",
      "Epoch 75/100\n",
      "176/176 [==============================] - 1s 4ms/step - loss: 0.3592 - accuracy: 0.8334 - recall: 0.6161\n",
      "Epoch 76/100\n",
      "176/176 [==============================] - 1s 4ms/step - loss: 0.3590 - accuracy: 0.8343 - recall: 0.6094\n",
      "Epoch 77/100\n",
      "176/176 [==============================] - 1s 4ms/step - loss: 0.3586 - accuracy: 0.8325 - recall: 0.6100\n",
      "Epoch 78/100\n",
      "176/176 [==============================] - 1s 4ms/step - loss: 0.3570 - accuracy: 0.8343 - recall: 0.6127\n",
      "Epoch 79/100\n",
      "176/176 [==============================] - 1s 4ms/step - loss: 0.3570 - accuracy: 0.8341 - recall: 0.6127\n",
      "Epoch 80/100\n",
      "176/176 [==============================] - 1s 4ms/step - loss: 0.3568 - accuracy: 0.8347 - recall: 0.6020\n",
      "Epoch 81/100\n",
      "176/176 [==============================] - 1s 4ms/step - loss: 0.3562 - accuracy: 0.8356 - recall: 0.6174\n",
      "Epoch 82/100\n",
      "176/176 [==============================] - 1s 4ms/step - loss: 0.3553 - accuracy: 0.8316 - recall: 0.6067\n",
      "Epoch 83/100\n",
      "176/176 [==============================] - 1s 4ms/step - loss: 0.3544 - accuracy: 0.8340 - recall: 0.6261\n",
      "Epoch 84/100\n",
      "176/176 [==============================] - 1s 4ms/step - loss: 0.3535 - accuracy: 0.8352 - recall: 0.6174\n",
      "Epoch 85/100\n",
      "176/176 [==============================] - 1s 4ms/step - loss: 0.3533 - accuracy: 0.8332 - recall: 0.6074\n",
      "Epoch 86/100\n",
      "176/176 [==============================] - 1s 4ms/step - loss: 0.3533 - accuracy: 0.8368 - recall: 0.6247\n",
      "Epoch 87/100\n",
      "176/176 [==============================] - 1s 4ms/step - loss: 0.3535 - accuracy: 0.8329 - recall: 0.6181\n",
      "Epoch 88/100\n",
      "176/176 [==============================] - 1s 4ms/step - loss: 0.3530 - accuracy: 0.8327 - recall: 0.6161\n",
      "Epoch 89/100\n",
      "176/176 [==============================] - 1s 4ms/step - loss: 0.3528 - accuracy: 0.8343 - recall: 0.6207\n",
      "Epoch 90/100\n",
      "176/176 [==============================] - 1s 4ms/step - loss: 0.3515 - accuracy: 0.8366 - recall: 0.6254\n",
      "Epoch 91/100\n",
      "176/176 [==============================] - 1s 4ms/step - loss: 0.3510 - accuracy: 0.8368 - recall: 0.6221\n",
      "Epoch 92/100\n",
      "176/176 [==============================] - 1s 4ms/step - loss: 0.3518 - accuracy: 0.8318 - recall: 0.6221\n",
      "Epoch 93/100\n",
      "176/176 [==============================] - 1s 4ms/step - loss: 0.3505 - accuracy: 0.8347 - recall: 0.6268\n",
      "Epoch 94/100\n",
      "176/176 [==============================] - 1s 4ms/step - loss: 0.3503 - accuracy: 0.8343 - recall: 0.6308\n",
      "Epoch 95/100\n",
      "176/176 [==============================] - 1s 4ms/step - loss: 0.3500 - accuracy: 0.8368 - recall: 0.6261\n",
      "Epoch 96/100\n",
      "176/176 [==============================] - 1s 4ms/step - loss: 0.3494 - accuracy: 0.8340 - recall: 0.6207\n",
      "Epoch 97/100\n",
      "176/176 [==============================] - 1s 4ms/step - loss: 0.3479 - accuracy: 0.8382 - recall: 0.6321\n",
      "Epoch 98/100\n",
      "176/176 [==============================] - 1s 4ms/step - loss: 0.3485 - accuracy: 0.8377 - recall: 0.6314\n",
      "Epoch 99/100\n",
      "176/176 [==============================] - 1s 4ms/step - loss: 0.3474 - accuracy: 0.8386 - recall: 0.6321\n",
      "Epoch 100/100\n",
      "176/176 [==============================] - 1s 4ms/step - loss: 0.3472 - accuracy: 0.8409 - recall: 0.6381\n"
     ]
    },
    {
     "data": {
      "text/plain": [
       "<keras.callbacks.History at 0x1f76e66d670>"
      ]
     },
     "execution_count": 62,
     "metadata": {},
     "output_type": "execute_result"
    }
   ],
   "source": [
    "#Building an ANN with tensorflow/keras\n",
    "import tensorflow as tf\n",
    "from tensorflow import keras\n",
    "\n",
    "\n",
    "model = keras.Sequential([\n",
    "    keras.layers.Dense(26, input_shape=(26,), activation='relu'),\n",
    "    keras.layers.Dense(15, activation='relu'),\n",
    "    keras.layers.Dense(1, activation='sigmoid')\n",
    "])\n",
    "\n",
    "# opt = keras.optimizers.Adam(learning_rate=0.01)\n",
    "\n",
    "model.compile(optimizer='adam',\n",
    "              loss='binary_crossentropy',\n",
    "              metrics=['accuracy',tf.keras.metrics.Recall()])\n",
    "\n",
    "model.fit(X_train, y_train, epochs=100)"
   ]
  },
  {
   "cell_type": "code",
   "execution_count": 63,
   "id": "9a4339da",
   "metadata": {},
   "outputs": [
    {
     "name": "stdout",
     "output_type": "stream",
     "text": [
      "44/44 [==============================] - 0s 3ms/step - loss: 0.4936 - accuracy: 0.7719 - recall: 0.4519\n"
     ]
    },
    {
     "data": {
      "text/plain": [
       "[0.4936223328113556, 0.7718549966812134, 0.4518716633319855]"
      ]
     },
     "execution_count": 63,
     "metadata": {},
     "output_type": "execute_result"
    }
   ],
   "source": [
    "model.evaluate(X_test, y_test)"
   ]
  },
  {
   "cell_type": "code",
   "execution_count": 64,
   "id": "7729912a",
   "metadata": {},
   "outputs": [],
   "source": [
    "preds=model.predict(X_test)\n",
    "y_pred=[]\n",
    "for p in preds:\n",
    "    if p>0.5:\n",
    "        y_pred.append(1)\n",
    "    else:\n",
    "        y_pred.append(0)"
   ]
  },
  {
   "cell_type": "code",
   "execution_count": 65,
   "id": "b32f8cc3",
   "metadata": {},
   "outputs": [
    {
     "name": "stdout",
     "output_type": "stream",
     "text": [
      "              precision    recall  f1-score   support\n",
      "\n",
      "           0       0.82      0.89      0.85      1033\n",
      "           1       0.59      0.45      0.51       374\n",
      "\n",
      "    accuracy                           0.77      1407\n",
      "   macro avg       0.71      0.67      0.68      1407\n",
      "weighted avg       0.76      0.77      0.76      1407\n",
      "\n"
     ]
    }
   ],
   "source": [
    "from sklearn.metrics import confusion_matrix , classification_report\n",
    "\n",
    "print(classification_report(y_test,y_pred))"
   ]
  },
  {
   "cell_type": "markdown",
   "id": "3c4044a5",
   "metadata": {},
   "source": [
    "### exhaustive confusion matrix"
   ]
  },
  {
   "cell_type": "code",
   "execution_count": 66,
   "id": "f55af0b6",
   "metadata": {},
   "outputs": [
    {
     "data": {
      "text/plain": [
       "Text(95.72222222222221, 0.5, 'Truth')"
      ]
     },
     "execution_count": 66,
     "metadata": {},
     "output_type": "execute_result"
    },
    {
     "data": {
      "image/png": "[encoded data removed]",
      "text/plain": [
       "<Figure size 1000x700 with 2 Axes>"
      ]
     },
     "metadata": {},
     "output_type": "display_data"
    }
   ],
   "source": [
    "import seaborn as sn\n",
    "cm = confusion_matrix(y_test,y_pred)\n",
    "\n",
    "plt.figure(figsize = (10,7))\n",
    "group_names = ['True Neg','False Pos','False Neg','True Pos']\n",
    "group_counts = [\"{0:0.0f}\".format(value) for value in  cm.flatten()]  \n",
    "group_percentages = [\"{0:.2%}\".format(value) for value in cm.flatten()/np.sum(cm)]\n",
    "labels = [f\"{v1}\\n{v2}\\n{v3}\" for v1, v2, v3 in  zip(group_names,group_counts,group_percentages)]\n",
    "labels = np.asarray(labels).reshape(2,2)\n",
    "sns.heatmap(cm, annot=labels, fmt=\"\", cmap='Blues')\n",
    "plt.xlabel('Predicted')\n",
    "plt.ylabel('Truth')"
   ]
  },
  {
   "cell_type": "markdown",
   "id": "5ca75a1f",
   "metadata": {},
   "source": [
    "### 8 Tactics To Combat Imbalanced Training Data\n",
    "1.  Can You Collect More Data?\n",
    "2.  Try Changing Your Performance Metric\n",
    "3.  Try Resampling Your Dataset:\n",
    "You can add copies of instances from the under-represented class called over-sampling (or more formally sampling with replacement), or You can delete instances from the over-represented class, called under-sampling.\n",
    "4.  Try Generate Synthetic Samples (Smote)\n",
    "5.  Try Different Algorithms\n",
    "6.  Try Penalized Models\n",
    "7.  Try a Different Perspective\n",
    "There are fields of study dedicated to imbalanced datasets. They have their own algorithms, measures and terminology. Taking a look and thinking about your problem from these perspectives can sometimes shame loose some ideas.\n",
    "Two you might like to consider are anomaly detection and change detection.\n",
    "\n",
    "8.  Try Getting Creative"
   ]
  },
  {
   "cell_type": "code",
   "execution_count": null,
   "id": "5c7ecb08",
   "metadata": {},
   "outputs": [],
   "source": [
    "#focus on improving recall for the minority class 1\n",
    "#added recall as a metric in model.fit increased recall by 1.5%\n",
    "#sSMOTE technique improved recall by 31% to 75% along with recall as a performance metric"
   ]
  },
  {
   "cell_type": "markdown",
   "id": "ae0757af",
   "metadata": {},
   "source": [
    "### SMOTE with imblearn library"
   ]
  },
  {
   "cell_type": "code",
   "execution_count": 68,
   "id": "6982ce1f",
   "metadata": {},
   "outputs": [],
   "source": [
    "#using imblearn\n",
    "\n",
    "from imblearn.over_sampling import SMOTE\n",
    "sm = SMOTE(random_state=0)\n",
    "X_resampled, y_resampled = sm.fit_resample(X, y)\n",
    "from sklearn.model_selection import train_test_split\n",
    "X_train_res,X_test_res,y_train_res,y_test_res=train_test_split(X_resampled,y_resampled,test_size=0.2,random_state=42)"
   ]
  },
  {
   "cell_type": "code",
   "execution_count": 69,
   "id": "a1b83048",
   "metadata": {},
   "outputs": [
    {
     "data": {
      "text/plain": [
       "(8260, 26)"
      ]
     },
     "execution_count": 69,
     "metadata": {},
     "output_type": "execute_result"
    }
   ],
   "source": [
    "X_train_res.shape"
   ]
  },
  {
   "cell_type": "code",
   "execution_count": 70,
   "id": "318f7bf7",
   "metadata": {},
   "outputs": [
    {
     "data": {
      "text/plain": [
       "(2066, 26)"
      ]
     },
     "execution_count": 70,
     "metadata": {},
     "output_type": "execute_result"
    }
   ],
   "source": [
    "X_test_res.shape"
   ]
  },
  {
   "cell_type": "code",
   "execution_count": 71,
   "id": "c45425c2",
   "metadata": {},
   "outputs": [
    {
     "name": "stdout",
     "output_type": "stream",
     "text": [
      "Epoch 1/100\n",
      "259/259 [==============================] - 1s 4ms/step - loss: 0.5425 - accuracy: 0.7282 - recall_1: 0.7465\n",
      "Epoch 2/100\n",
      "259/259 [==============================] - 1s 4ms/step - loss: 0.4734 - accuracy: 0.7732 - recall_1: 0.8036\n",
      "Epoch 3/100\n",
      "259/259 [==============================] - 1s 4ms/step - loss: 0.4658 - accuracy: 0.7759 - recall_1: 0.8045\n",
      "Epoch 4/100\n",
      "259/259 [==============================] - 1s 4ms/step - loss: 0.4610 - accuracy: 0.7817 - recall_1: 0.8091\n",
      "Epoch 5/100\n",
      "259/259 [==============================] - 1s 4ms/step - loss: 0.4573 - accuracy: 0.7812 - recall_1: 0.8087\n",
      "Epoch 6/100\n",
      "259/259 [==============================] - 1s 4ms/step - loss: 0.4518 - accuracy: 0.7854 - recall_1: 0.8164\n",
      "Epoch 7/100\n",
      "259/259 [==============================] - 1s 4ms/step - loss: 0.4474 - accuracy: 0.7878 - recall_1: 0.8176\n",
      "Epoch 8/100\n",
      "259/259 [==============================] - 1s 4ms/step - loss: 0.4443 - accuracy: 0.7923 - recall_1: 0.8210\n",
      "Epoch 9/100\n",
      "259/259 [==============================] - 1s 4ms/step - loss: 0.4412 - accuracy: 0.7907 - recall_1: 0.8222\n",
      "Epoch 10/100\n",
      "259/259 [==============================] - 1s 4ms/step - loss: 0.4368 - accuracy: 0.7918 - recall_1: 0.8205\n",
      "Epoch 11/100\n",
      "259/259 [==============================] - 1s 4ms/step - loss: 0.4340 - accuracy: 0.7976 - recall_1: 0.8336\n",
      "Epoch 12/100\n",
      "259/259 [==============================] - 1s 4ms/step - loss: 0.4311 - accuracy: 0.8007 - recall_1: 0.8367\n",
      "Epoch 13/100\n",
      "259/259 [==============================] - 1s 4ms/step - loss: 0.4273 - accuracy: 0.7970 - recall_1: 0.8270\n",
      "Epoch 14/100\n",
      "259/259 [==============================] - 1s 4ms/step - loss: 0.4243 - accuracy: 0.8015 - recall_1: 0.8355\n",
      "Epoch 15/100\n",
      "259/259 [==============================] - 1s 4ms/step - loss: 0.4209 - accuracy: 0.8081 - recall_1: 0.8437\n",
      "Epoch 16/100\n",
      "259/259 [==============================] - 1s 4ms/step - loss: 0.4180 - accuracy: 0.8058 - recall_1: 0.8447\n",
      "Epoch 17/100\n",
      "259/259 [==============================] - 1s 4ms/step - loss: 0.4162 - accuracy: 0.8064 - recall_1: 0.8399\n",
      "Epoch 18/100\n",
      "259/259 [==============================] - 1s 4ms/step - loss: 0.4145 - accuracy: 0.8061 - recall_1: 0.8420\n",
      "Epoch 19/100\n",
      "259/259 [==============================] - 1s 4ms/step - loss: 0.4121 - accuracy: 0.8090 - recall_1: 0.8454\n",
      "Epoch 20/100\n",
      "259/259 [==============================] - 1s 4ms/step - loss: 0.4099 - accuracy: 0.8134 - recall_1: 0.8529\n",
      "Epoch 21/100\n",
      "259/259 [==============================] - 1s 4ms/step - loss: 0.4084 - accuracy: 0.8121 - recall_1: 0.8420\n",
      "Epoch 22/100\n",
      "259/259 [==============================] - 1s 4ms/step - loss: 0.4053 - accuracy: 0.8136 - recall_1: 0.8486\n",
      "Epoch 23/100\n",
      "259/259 [==============================] - 1s 4ms/step - loss: 0.4035 - accuracy: 0.8140 - recall_1: 0.8491\n",
      "Epoch 24/100\n",
      "259/259 [==============================] - 1s 4ms/step - loss: 0.4016 - accuracy: 0.8150 - recall_1: 0.8498\n",
      "Epoch 25/100\n",
      "259/259 [==============================] - 1s 4ms/step - loss: 0.4006 - accuracy: 0.8160 - recall_1: 0.8517\n",
      "Epoch 26/100\n",
      "259/259 [==============================] - 1s 4ms/step - loss: 0.3966 - accuracy: 0.8195 - recall_1: 0.8537\n",
      "Epoch 27/100\n",
      "259/259 [==============================] - 1s 4ms/step - loss: 0.3962 - accuracy: 0.8194 - recall_1: 0.8532\n",
      "Epoch 28/100\n",
      "259/259 [==============================] - 1s 4ms/step - loss: 0.3941 - accuracy: 0.8202 - recall_1: 0.8520\n",
      "Epoch 29/100\n",
      "259/259 [==============================] - 1s 4ms/step - loss: 0.3914 - accuracy: 0.8230 - recall_1: 0.8582\n",
      "Epoch 30/100\n",
      "259/259 [==============================] - 1s 4ms/step - loss: 0.3904 - accuracy: 0.8237 - recall_1: 0.8578\n",
      "Epoch 31/100\n",
      "259/259 [==============================] - 1s 4ms/step - loss: 0.3901 - accuracy: 0.8213 - recall_1: 0.8549\n",
      "Epoch 32/100\n",
      "259/259 [==============================] - 1s 4ms/step - loss: 0.3881 - accuracy: 0.8241 - recall_1: 0.8585\n",
      "Epoch 33/100\n",
      "259/259 [==============================] - 1s 4ms/step - loss: 0.3863 - accuracy: 0.8263 - recall_1: 0.8575\n",
      "Epoch 34/100\n",
      "259/259 [==============================] - 1s 4ms/step - loss: 0.3863 - accuracy: 0.8225 - recall_1: 0.8541\n",
      "Epoch 35/100\n",
      "259/259 [==============================] - 1s 4ms/step - loss: 0.3834 - accuracy: 0.8237 - recall_1: 0.8587\n",
      "Epoch 36/100\n",
      "259/259 [==============================] - 1s 4ms/step - loss: 0.3814 - accuracy: 0.8266 - recall_1: 0.8592\n",
      "Epoch 37/100\n",
      "259/259 [==============================] - 1s 4ms/step - loss: 0.3823 - accuracy: 0.8260 - recall_1: 0.8585\n",
      "Epoch 38/100\n",
      "259/259 [==============================] - 1s 4ms/step - loss: 0.3801 - accuracy: 0.8322 - recall_1: 0.8621\n",
      "Epoch 39/100\n",
      "259/259 [==============================] - 1s 4ms/step - loss: 0.3793 - accuracy: 0.8294 - recall_1: 0.8619\n",
      "Epoch 40/100\n",
      "259/259 [==============================] - 1s 4ms/step - loss: 0.3805 - accuracy: 0.8254 - recall_1: 0.8585\n",
      "Epoch 41/100\n",
      "259/259 [==============================] - 1s 4ms/step - loss: 0.3773 - accuracy: 0.8333 - recall_1: 0.8636\n",
      "Epoch 42/100\n",
      "259/259 [==============================] - 1s 4ms/step - loss: 0.3748 - accuracy: 0.8321 - recall_1: 0.8670\n",
      "Epoch 43/100\n",
      "259/259 [==============================] - 1s 4ms/step - loss: 0.3739 - accuracy: 0.8322 - recall_1: 0.8648\n",
      "Epoch 44/100\n",
      "259/259 [==============================] - 1s 4ms/step - loss: 0.3738 - accuracy: 0.8340 - recall_1: 0.8667\n",
      "Epoch 45/100\n",
      "259/259 [==============================] - 1s 4ms/step - loss: 0.3748 - accuracy: 0.8303 - recall_1: 0.8641\n",
      "Epoch 46/100\n",
      "259/259 [==============================] - 1s 4ms/step - loss: 0.3708 - accuracy: 0.8369 - recall_1: 0.8718\n",
      "Epoch 47/100\n",
      "259/259 [==============================] - 1s 4ms/step - loss: 0.3720 - accuracy: 0.8345 - recall_1: 0.8650\n",
      "Epoch 48/100\n",
      "259/259 [==============================] - 1s 4ms/step - loss: 0.3689 - accuracy: 0.8345 - recall_1: 0.8687\n",
      "Epoch 49/100\n",
      "259/259 [==============================] - 1s 4ms/step - loss: 0.3706 - accuracy: 0.8345 - recall_1: 0.8667\n",
      "Epoch 50/100\n",
      "259/259 [==============================] - 1s 4ms/step - loss: 0.3671 - accuracy: 0.8338 - recall_1: 0.8677\n",
      "Epoch 51/100\n",
      "259/259 [==============================] - 1s 4ms/step - loss: 0.3699 - accuracy: 0.8333 - recall_1: 0.8674\n",
      "Epoch 52/100\n",
      "259/259 [==============================] - 1s 4ms/step - loss: 0.3678 - accuracy: 0.8384 - recall_1: 0.8691\n",
      "Epoch 53/100\n",
      "259/259 [==============================] - 1s 4ms/step - loss: 0.3637 - accuracy: 0.8389 - recall_1: 0.8735\n",
      "Epoch 54/100\n",
      "259/259 [==============================] - 1s 4ms/step - loss: 0.3633 - accuracy: 0.8369 - recall_1: 0.8660\n",
      "Epoch 55/100\n",
      "259/259 [==============================] - 1s 4ms/step - loss: 0.3633 - accuracy: 0.8389 - recall_1: 0.8747\n",
      "Epoch 56/100\n",
      "259/259 [==============================] - 1s 4ms/step - loss: 0.3622 - accuracy: 0.8407 - recall_1: 0.8701\n",
      "Epoch 57/100\n",
      "259/259 [==============================] - 1s 4ms/step - loss: 0.3615 - accuracy: 0.8414 - recall_1: 0.8752\n",
      "Epoch 58/100\n",
      "259/259 [==============================] - 1s 4ms/step - loss: 0.3592 - accuracy: 0.8432 - recall_1: 0.8757\n",
      "Epoch 59/100\n",
      "259/259 [==============================] - 1s 4ms/step - loss: 0.3588 - accuracy: 0.8400 - recall_1: 0.8730\n",
      "Epoch 60/100\n",
      "259/259 [==============================] - 1s 4ms/step - loss: 0.3575 - accuracy: 0.8385 - recall_1: 0.8638\n",
      "Epoch 61/100\n",
      "259/259 [==============================] - 1s 4ms/step - loss: 0.3549 - accuracy: 0.8456 - recall_1: 0.8740\n",
      "Epoch 62/100\n",
      "259/259 [==============================] - 1s 4ms/step - loss: 0.3570 - accuracy: 0.8383 - recall_1: 0.8725\n",
      "Epoch 63/100\n",
      "259/259 [==============================] - 1s 4ms/step - loss: 0.3568 - accuracy: 0.8443 - recall_1: 0.8754\n",
      "Epoch 64/100\n",
      "259/259 [==============================] - 1s 4ms/step - loss: 0.3537 - accuracy: 0.8426 - recall_1: 0.8699\n",
      "Epoch 65/100\n",
      "259/259 [==============================] - 1s 4ms/step - loss: 0.3540 - accuracy: 0.8435 - recall_1: 0.8745\n",
      "Epoch 66/100\n",
      "259/259 [==============================] - 1s 4ms/step - loss: 0.3536 - accuracy: 0.8427 - recall_1: 0.8730\n",
      "Epoch 67/100\n",
      "259/259 [==============================] - 1s 4ms/step - loss: 0.3531 - accuracy: 0.8431 - recall_1: 0.8745\n",
      "Epoch 68/100\n"
     ]
    },
    {
     "name": "stdout",
     "output_type": "stream",
     "text": [
      "259/259 [==============================] - 1s 4ms/step - loss: 0.3527 - accuracy: 0.8439 - recall_1: 0.8703\n",
      "Epoch 69/100\n",
      "259/259 [==============================] - 1s 4ms/step - loss: 0.3520 - accuracy: 0.8435 - recall_1: 0.8745\n",
      "Epoch 70/100\n",
      "259/259 [==============================] - 1s 4ms/step - loss: 0.3499 - accuracy: 0.8465 - recall_1: 0.8754\n",
      "Epoch 71/100\n",
      "259/259 [==============================] - 1s 4ms/step - loss: 0.3519 - accuracy: 0.8459 - recall_1: 0.8771\n",
      "Epoch 72/100\n",
      "259/259 [==============================] - 1s 4ms/step - loss: 0.3507 - accuracy: 0.8483 - recall_1: 0.8747\n",
      "Epoch 73/100\n",
      "259/259 [==============================] - 1s 4ms/step - loss: 0.3499 - accuracy: 0.8430 - recall_1: 0.8771\n",
      "Epoch 74/100\n",
      "259/259 [==============================] - 1s 4ms/step - loss: 0.3529 - accuracy: 0.8476 - recall_1: 0.8757\n",
      "Epoch 75/100\n",
      "259/259 [==============================] - 1s 4ms/step - loss: 0.3506 - accuracy: 0.8438 - recall_1: 0.8713\n",
      "Epoch 76/100\n",
      "259/259 [==============================] - 1s 4ms/step - loss: 0.3487 - accuracy: 0.8446 - recall_1: 0.8749\n",
      "Epoch 77/100\n",
      "259/259 [==============================] - 1s 4ms/step - loss: 0.3460 - accuracy: 0.8499 - recall_1: 0.8776\n",
      "Epoch 78/100\n",
      "259/259 [==============================] - 1s 4ms/step - loss: 0.3491 - accuracy: 0.8467 - recall_1: 0.8745\n",
      "Epoch 79/100\n",
      "259/259 [==============================] - 1s 4ms/step - loss: 0.3489 - accuracy: 0.8465 - recall_1: 0.8732\n",
      "Epoch 80/100\n",
      "259/259 [==============================] - 1s 4ms/step - loss: 0.3461 - accuracy: 0.8482 - recall_1: 0.8769\n",
      "Epoch 81/100\n",
      "259/259 [==============================] - 1s 4ms/step - loss: 0.3458 - accuracy: 0.8470 - recall_1: 0.8745\n",
      "Epoch 82/100\n",
      "259/259 [==============================] - 1s 4ms/step - loss: 0.3465 - accuracy: 0.8454 - recall_1: 0.8740\n",
      "Epoch 83/100\n",
      "259/259 [==============================] - 1s 4ms/step - loss: 0.3433 - accuracy: 0.8460 - recall_1: 0.8737\n",
      "Epoch 84/100\n",
      "259/259 [==============================] - 1s 4ms/step - loss: 0.3438 - accuracy: 0.8471 - recall_1: 0.8740\n",
      "Epoch 85/100\n",
      "259/259 [==============================] - 1s 4ms/step - loss: 0.3427 - accuracy: 0.8504 - recall_1: 0.8807\n",
      "Epoch 86/100\n",
      "259/259 [==============================] - 1s 4ms/step - loss: 0.3413 - accuracy: 0.8483 - recall_1: 0.8800\n",
      "Epoch 87/100\n",
      "259/259 [==============================] - 1s 4ms/step - loss: 0.3420 - accuracy: 0.8501 - recall_1: 0.8788\n",
      "Epoch 88/100\n",
      "259/259 [==============================] - 1s 4ms/step - loss: 0.3442 - accuracy: 0.8492 - recall_1: 0.8761\n",
      "Epoch 89/100\n",
      "259/259 [==============================] - 1s 4ms/step - loss: 0.3436 - accuracy: 0.8508 - recall_1: 0.8749\n",
      "Epoch 90/100\n",
      "259/259 [==============================] - 1s 4ms/step - loss: 0.3432 - accuracy: 0.8484 - recall_1: 0.8778\n",
      "Epoch 91/100\n",
      "259/259 [==============================] - 1s 4ms/step - loss: 0.3452 - accuracy: 0.8511 - recall_1: 0.8771\n",
      "Epoch 92/100\n",
      "259/259 [==============================] - 1s 4ms/step - loss: 0.3407 - accuracy: 0.8492 - recall_1: 0.8769\n",
      "Epoch 93/100\n",
      "259/259 [==============================] - 1s 4ms/step - loss: 0.3421 - accuracy: 0.8508 - recall_1: 0.8771\n",
      "Epoch 94/100\n",
      "259/259 [==============================] - 1s 4ms/step - loss: 0.3389 - accuracy: 0.8481 - recall_1: 0.8769\n",
      "Epoch 95/100\n",
      "259/259 [==============================] - 1s 4ms/step - loss: 0.3450 - accuracy: 0.8438 - recall_1: 0.8706\n",
      "Epoch 96/100\n",
      "259/259 [==============================] - 1s 4ms/step - loss: 0.3390 - accuracy: 0.8481 - recall_1: 0.8757\n",
      "Epoch 97/100\n",
      "259/259 [==============================] - 1s 4ms/step - loss: 0.3430 - accuracy: 0.8460 - recall_1: 0.8699\n",
      "Epoch 98/100\n",
      "259/259 [==============================] - 1s 4ms/step - loss: 0.3394 - accuracy: 0.8519 - recall_1: 0.8740\n",
      "Epoch 99/100\n",
      "259/259 [==============================] - 1s 4ms/step - loss: 0.3370 - accuracy: 0.8517 - recall_1: 0.8791\n",
      "Epoch 100/100\n",
      "259/259 [==============================] - 1s 4ms/step - loss: 0.3380 - accuracy: 0.8561 - recall_1: 0.8820\n"
     ]
    },
    {
     "data": {
      "text/plain": [
       "<keras.callbacks.History at 0x1f767cdb5b0>"
      ]
     },
     "execution_count": 71,
     "metadata": {},
     "output_type": "execute_result"
    }
   ],
   "source": [
    "import tensorflow as tf\n",
    "from tensorflow import keras\n",
    "\n",
    "\n",
    "model = keras.Sequential([\n",
    "    keras.layers.Dense(26, input_shape=(26,), activation='relu'),\n",
    "    keras.layers.Dense(15, activation='relu'),\n",
    "    keras.layers.Dense(1, activation='sigmoid')\n",
    "])\n",
    "\n",
    "# opt = keras.optimizers.Adam(learning_rate=0.01)\n",
    "\n",
    "model.compile(optimizer='adam',\n",
    "              loss='binary_crossentropy',\n",
    "              metrics=['accuracy',tf.keras.metrics.Recall()])\n",
    "\n",
    "model.fit(X_train_res, y_train_res, epochs=100)"
   ]
  },
  {
   "cell_type": "code",
   "execution_count": 72,
   "id": "cba51f42",
   "metadata": {},
   "outputs": [
    {
     "name": "stdout",
     "output_type": "stream",
     "text": [
      "44/44 [==============================] - 0s 3ms/step - loss: 0.4683 - accuracy: 0.7711 - recall_1: 0.7647\n"
     ]
    },
    {
     "data": {
      "text/plain": [
       "[0.46827226877212524, 0.7711442708969116, 0.7647058963775635]"
      ]
     },
     "execution_count": 72,
     "metadata": {},
     "output_type": "execute_result"
    }
   ],
   "source": [
    "model.evaluate(X_test, y_test)"
   ]
  },
  {
   "cell_type": "code",
   "execution_count": 73,
   "id": "b11ed6cf",
   "metadata": {},
   "outputs": [],
   "source": [
    "preds=model.predict(X_test)\n",
    "y_pred=[]\n",
    "for p in preds:\n",
    "    if p>0.5:\n",
    "        y_pred.append(1)\n",
    "    else:\n",
    "        y_pred.append(0)"
   ]
  },
  {
   "cell_type": "code",
   "execution_count": 74,
   "id": "2689115c",
   "metadata": {},
   "outputs": [
    {
     "data": {
      "text/plain": [
       "Text(95.72222222222221, 0.5, 'Truth')"
      ]
     },
     "execution_count": 74,
     "metadata": {},
     "output_type": "execute_result"
    },
    {
     "data": {
      "image/png": "[encoded data removed]",
      "text/plain": [
       "<Figure size 1000x700 with 2 Axes>"
      ]
     },
     "metadata": {},
     "output_type": "display_data"
    }
   ],
   "source": [
    "import seaborn as sn\n",
    "cm = confusion_matrix(y_test,y_pred)\n",
    "\n",
    "plt.figure(figsize = (10,7))\n",
    "group_names = ['True Neg','False Pos','False Neg','True Pos']\n",
    "group_counts = [\"{0:0.0f}\".format(value) for value in  cm.flatten()]  \n",
    "group_percentages = [\"{0:.2%}\".format(value) for value in cm.flatten()/np.sum(cm)]\n",
    "labels = [f\"{v1}\\n{v2}\\n{v3}\" for v1, v2, v3 in  zip(group_names,group_counts,group_percentages)]\n",
    "labels = np.asarray(labels).reshape(2,2)\n",
    "sns.heatmap(cm, annot=labels, fmt=\"\", cmap='Blues')\n",
    "plt.xlabel('Predicted')\n",
    "plt.ylabel('Truth')"
   ]
  },
  {
   "cell_type": "code",
   "execution_count": null,
   "id": "6b60b1e1",
   "metadata": {},
   "outputs": [],
   "source": []
  }
 ],
 "metadata": {
  "kernelspec": {
   "display_name": "Python 3 (ipykernel)",
   "language": "python",
   "name": "python3"
  },
  "language_info": {
   "codemirror_mode": {
    "name": "ipython",
    "version": 3
   },
   "file_extension": ".py",
   "mimetype": "text/x-python",
   "name": "python",
   "nbconvert_exporter": "python",
   "pygments_lexer": "ipython3",
   "version": "3.9.0"
  }
 },
 "nbformat": 4,
 "nbformat_minor": 5
}
